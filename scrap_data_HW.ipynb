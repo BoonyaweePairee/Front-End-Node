{
  "cells": [
    {
      "cell_type": "markdown",
      "metadata": {
        "id": "view-in-github",
        "colab_type": "text"
      },
      "source": [
        "<a href=\"https://colab.research.google.com/github/BoonyaweePairee/Front-End-Node/blob/main/scrap_data_HW.ipynb\" target=\"_parent\"><img src=\"https://colab.research.google.com/assets/colab-badge.svg\" alt=\"Open In Colab\"/></a>"
      ]
    },
    {
      "cell_type": "code",
      "execution_count": null,
      "metadata": {
        "colab": {
          "base_uri": "https://localhost:8080/"
        },
        "id": "Fkrr8CHMyai0",
        "outputId": "e8f09d20-6122-4f5d-87c2-e3878041d08f"
      },
      "outputs": [
        {
          "output_type": "stream",
          "name": "stdout",
          "text": [
            "Requirement already satisfied: bs4 in /usr/local/lib/python3.10/dist-packages (0.0.1)\n",
            "Requirement already satisfied: beautifulsoup4 in /usr/local/lib/python3.10/dist-packages (from bs4) (4.11.2)\n",
            "Requirement already satisfied: soupsieve>1.2 in /usr/local/lib/python3.10/dist-packages (from beautifulsoup4->bs4) (2.4.1)\n"
          ]
        }
      ],
      "source": [
        "pip install bs4"
      ]
    },
    {
      "cell_type": "code",
      "execution_count": null,
      "metadata": {
        "colab": {
          "base_uri": "https://localhost:8080/"
        },
        "id": "PfmIEvXNzB4K",
        "outputId": "2f97a7de-fb92-4d28-fa9c-d81c23af39bd"
      },
      "outputs": [
        {
          "output_type": "stream",
          "name": "stdout",
          "text": [
            "Requirement already satisfied: requests in /usr/local/lib/python3.10/dist-packages (2.31.0)\n",
            "Requirement already satisfied: charset-normalizer<4,>=2 in /usr/local/lib/python3.10/dist-packages (from requests) (3.2.0)\n",
            "Requirement already satisfied: idna<4,>=2.5 in /usr/local/lib/python3.10/dist-packages (from requests) (3.4)\n",
            "Requirement already satisfied: urllib3<3,>=1.21.1 in /usr/local/lib/python3.10/dist-packages (from requests) (2.0.4)\n",
            "Requirement already satisfied: certifi>=2017.4.17 in /usr/local/lib/python3.10/dist-packages (from requests) (2023.7.22)\n"
          ]
        }
      ],
      "source": [
        "pip install requests\n"
      ]
    },
    {
      "cell_type": "code",
      "execution_count": null,
      "metadata": {
        "colab": {
          "base_uri": "https://localhost:8080/"
        },
        "id": "nS3Re7hczFD7",
        "outputId": "4fb61dda-d645-452c-bbb2-3eb5e9c64ac3"
      },
      "outputs": [
        {
          "output_type": "stream",
          "name": "stdout",
          "text": [
            "Requirement already satisfied: pandas in /usr/local/lib/python3.10/dist-packages (1.5.3)\n",
            "Requirement already satisfied: python-dateutil>=2.8.1 in /usr/local/lib/python3.10/dist-packages (from pandas) (2.8.2)\n",
            "Requirement already satisfied: pytz>=2020.1 in /usr/local/lib/python3.10/dist-packages (from pandas) (2023.3)\n",
            "Requirement already satisfied: numpy>=1.21.0 in /usr/local/lib/python3.10/dist-packages (from pandas) (1.23.5)\n",
            "Requirement already satisfied: six>=1.5 in /usr/local/lib/python3.10/dist-packages (from python-dateutil>=2.8.1->pandas) (1.16.0)\n"
          ]
        }
      ],
      "source": [
        "pip install pandas"
      ]
    },
    {
      "cell_type": "code",
      "execution_count": null,
      "metadata": {
        "colab": {
          "base_uri": "https://localhost:8080/"
        },
        "id": "wk2GTWDHzIHp",
        "outputId": "51c7c707-ea01-4649-d137-cfc1db1c9dc8"
      },
      "outputs": [
        {
          "output_type": "stream",
          "name": "stdout",
          "text": [
            "Requirement already satisfied: openpyxl in /usr/local/lib/python3.10/dist-packages (3.1.2)\n",
            "Requirement already satisfied: et-xmlfile in /usr/local/lib/python3.10/dist-packages (from openpyxl) (1.1.0)\n"
          ]
        }
      ],
      "source": [
        "pip install openpyxl"
      ]
    },
    {
      "cell_type": "code",
      "execution_count": null,
      "metadata": {
        "colab": {
          "base_uri": "https://localhost:8080/"
        },
        "id": "0zEBGP5nzNu0",
        "outputId": "04583809-42ce-48bd-8959-436519eb88c2"
      },
      "outputs": [
        {
          "output_type": "stream",
          "name": "stdout",
          "text": [
            "Requirement already satisfied: azure-storage-blob in /usr/local/lib/python3.10/dist-packages (12.17.0)\n",
            "Requirement already satisfied: azure-core<2.0.0,>=1.28.0 in /usr/local/lib/python3.10/dist-packages (from azure-storage-blob) (1.29.2)\n",
            "Requirement already satisfied: cryptography>=2.1.4 in /usr/local/lib/python3.10/dist-packages (from azure-storage-blob) (41.0.3)\n",
            "Requirement already satisfied: typing-extensions>=4.3.0 in /usr/local/lib/python3.10/dist-packages (from azure-storage-blob) (4.7.1)\n",
            "Requirement already satisfied: isodate>=0.6.1 in /usr/local/lib/python3.10/dist-packages (from azure-storage-blob) (0.6.1)\n",
            "Requirement already satisfied: requests>=2.18.4 in /usr/local/lib/python3.10/dist-packages (from azure-core<2.0.0,>=1.28.0->azure-storage-blob) (2.31.0)\n",
            "Requirement already satisfied: six>=1.11.0 in /usr/local/lib/python3.10/dist-packages (from azure-core<2.0.0,>=1.28.0->azure-storage-blob) (1.16.0)\n",
            "Requirement already satisfied: cffi>=1.12 in /usr/local/lib/python3.10/dist-packages (from cryptography>=2.1.4->azure-storage-blob) (1.15.1)\n",
            "Requirement already satisfied: pycparser in /usr/local/lib/python3.10/dist-packages (from cffi>=1.12->cryptography>=2.1.4->azure-storage-blob) (2.21)\n",
            "Requirement already satisfied: charset-normalizer<4,>=2 in /usr/local/lib/python3.10/dist-packages (from requests>=2.18.4->azure-core<2.0.0,>=1.28.0->azure-storage-blob) (3.2.0)\n",
            "Requirement already satisfied: idna<4,>=2.5 in /usr/local/lib/python3.10/dist-packages (from requests>=2.18.4->azure-core<2.0.0,>=1.28.0->azure-storage-blob) (3.4)\n",
            "Requirement already satisfied: urllib3<3,>=1.21.1 in /usr/local/lib/python3.10/dist-packages (from requests>=2.18.4->azure-core<2.0.0,>=1.28.0->azure-storage-blob) (2.0.4)\n",
            "Requirement already satisfied: certifi>=2017.4.17 in /usr/local/lib/python3.10/dist-packages (from requests>=2.18.4->azure-core<2.0.0,>=1.28.0->azure-storage-blob) (2023.7.22)\n"
          ]
        }
      ],
      "source": [
        "pip install azure-storage-blob"
      ]
    },
    {
      "cell_type": "code",
      "source": [
        "pip install beautifulsoup4"
      ],
      "metadata": {
        "colab": {
          "base_uri": "https://localhost:8080/"
        },
        "id": "8oifMQ5jDMSA",
        "outputId": "734c5c8b-d783-45ec-f5d5-2946b37f2797"
      },
      "execution_count": null,
      "outputs": [
        {
          "output_type": "stream",
          "name": "stdout",
          "text": [
            "Requirement already satisfied: beautifulsoup4 in /usr/local/lib/python3.10/dist-packages (4.11.2)\n",
            "Requirement already satisfied: soupsieve>1.2 in /usr/local/lib/python3.10/dist-packages (from beautifulsoup4) (2.4.1)\n"
          ]
        }
      ]
    },
    {
      "cell_type": "code",
      "source": [
        "pip install songline"
      ],
      "metadata": {
        "colab": {
          "base_uri": "https://localhost:8080/"
        },
        "id": "-e3Fo5MfDTYF",
        "outputId": "13a4f4c2-a237-4f53-bfb3-2985e7a2eef3"
      },
      "execution_count": null,
      "outputs": [
        {
          "output_type": "stream",
          "name": "stdout",
          "text": [
            "Collecting songline\n",
            "  Downloading songline-0.0.2.tar.gz (4.2 kB)\n",
            "  Preparing metadata (setup.py) ... \u001b[?25l\u001b[?25hdone\n",
            "Requirement already satisfied: requests in /usr/local/lib/python3.10/dist-packages (from songline) (2.31.0)\n",
            "Requirement already satisfied: charset-normalizer<4,>=2 in /usr/local/lib/python3.10/dist-packages (from requests->songline) (3.2.0)\n",
            "Requirement already satisfied: idna<4,>=2.5 in /usr/local/lib/python3.10/dist-packages (from requests->songline) (3.4)\n",
            "Requirement already satisfied: urllib3<3,>=1.21.1 in /usr/local/lib/python3.10/dist-packages (from requests->songline) (2.0.4)\n",
            "Requirement already satisfied: certifi>=2017.4.17 in /usr/local/lib/python3.10/dist-packages (from requests->songline) (2023.7.22)\n",
            "Building wheels for collected packages: songline\n",
            "  Building wheel for songline (setup.py) ... \u001b[?25l\u001b[?25hdone\n",
            "  Created wheel for songline: filename=songline-0.0.2-py3-none-any.whl size=4868 sha256=325c07df13378e8db8f6df5c59fb44a263037ccd56d737260fd6af8169cf99b5\n",
            "  Stored in directory: /root/.cache/pip/wheels/b2/5c/85/9a7ba890449b322545ab4628d052b91155c6379b4f9a8669f4\n",
            "Successfully built songline\n",
            "Installing collected packages: songline\n",
            "Successfully installed songline-0.0.2\n"
          ]
        }
      ]
    },
    {
      "cell_type": "code",
      "execution_count": null,
      "metadata": {
        "id": "U0N8vTupzV7B"
      },
      "outputs": [],
      "source": [
        "import pandas as pd\n",
        "import bs4\n",
        "import requests\n",
        "import openpyxl\n",
        "import os\n",
        "from urllib.request import urlopen as req\n",
        "from bs4 import BeautifulSoup as Soup\n",
        "from multiprocessing.pool import ThreadPool\n",
        "from azure.storage.blob import BlobServiceClient, BlobClient\n",
        "from azure.storage.blob import ContentSettings, ContainerClient"
      ]
    },
    {
      "cell_type": "code",
      "execution_count": null,
      "metadata": {
        "colab": {
          "base_uri": "https://localhost:8080/"
        },
        "id": "3QLm2yBgzkcq",
        "outputId": "f9ed72a6-5cf4-404d-9146-9b4e2b7606b9"
      },
      "outputs": [
        {
          "output_type": "stream",
          "name": "stdout",
          "text": [
            "Complete item number:  1\n",
            "Complete item number:  2\n",
            "Complete item number:  3\n",
            "Complete item number:  4\n",
            "Complete item number:  5\n",
            "Complete item number:  6\n",
            "Complete item number:  7\n",
            "Complete item number:  8\n",
            "Complete item number:  9\n",
            "Complete item number:  10\n",
            "Complete item number:  11\n",
            "Complete item number:  12\n",
            "Complete item number:  13\n",
            "Complete item number:  14\n",
            "Complete item number:  15\n",
            "Complete item number:  16\n",
            "Complete item number:  17\n",
            "Complete item number:  18\n",
            "Complete item number:  19\n",
            "Complete item number:  20\n",
            "['SIG Sauer MPX-K Sportline Airsoft AEG Rifle (by SIG AIR & King Arms) - Black', 'Viva Arms Mosin Nagant M44 Carbine (Real Wood CO2 Version)', 'RWA Nighthawk Custom War Hawk Green Gas Airsoft Pistol (Rail Version) - Cerakote COBALT', 'Army Armament John Wick 4 Taran Tactical Pit Viper GBB Airsoft Pistol (R614-1) (Standard Version)', 'EMG Staccato Licensed XC 2011 GBB Airsoft Pistol (Model: VIP Grip / Standard / Green Gas)', 'WELL PRO M134 Mini Vulcan Rotating Gatling Airsoft AEG - Black', 'Arcturus AK12 Airsoft AEG Rifle (Updated PE Limited Version, BK)', 'Arcturus PP19 01 Vityaz Ztac SP1 CQB AEG Airsoft Rifle (PE Limited Version, BK)', 'Arcturus PP19 01 Vityaz Ztac SP1 Carbine AEG Airsoft Rifle (PE Limited Version, BK)', 'Arcturus PPK20 AEG Airsoft Rifle (PE Limited Version, BK)', 'SRC M9A3 SR-92 A3 GBB Airsoft Pistol Desert', 'SRC TT33 SR-33 GBB Airsoft Pistol - Black', 'SRC Tartarus MKIII Hi Capa 4.3 GBB Airsoft Pistol - Black', 'SRC Night Viper Hi Capa GBB Airsoft Pistol - Black', 'SRC Maverick FN57 GBB Airsoft Pistol - Black', 'Umarex HK M110A1 AEG Airsoft Rifle (by VFC)', 'EMG Lancer Systems Licensed L15 Defense AEG Airsoft Rifle (Black Handguard /12inch) by King Arms', 'EMG Lancer Systems Licensed L15 Defense AEG Airsoft Rifle (Faux Carbon Handguard /8inch) by King Arms', 'EMG Lancer Systems Licensed L15 Defense AEG Airsoft Rifle (Faux Carbon Handguard /12inch) by King Arms', 'EMG Lancer Systems Licensed L15 Defense AEG Airsoft Rifle (Faux Carbon Handguard /15inch) by King Arms', 'EMG Lancer Systems Licensed L15 Defense AEG Airsoft Rifle (Carbon Fiber Handguard /8inch) by King Arms', 'EMG Lancer Systems Licensed L15 Defense AEG Airsoft Rifle (Carbon Fiber Handguard /12inch) by King Arms', 'EMG Lancer Systems Licensed L15 Defense AEG Airsoft Rifle (Carbon Fiber Handguard /15inch) by King Arms', 'King Arms SAA .45 Peacemaker Revolver L - Electroplating Black (Version II, Gas Version)', 'King Arms SAA .45 Peacemaker Revolver L - Silver (Version II, Gas Version)', 'Novritsch SSE18 Full Auto / Semi AEP Airsoft Pistol - Tan  (Gen 2)', 'KJ Works STEYR L9A2 GBB Airsoft Pistol - Black (ASG Licensed)', 'KJ Works STEYR L9A2 CO2 Airsoft Pistol - Black (ASG Licensed)', 'Tanaka S&W M19 4 inch Ver.3 Heavy Weight Model Gun', 'Tanaka SIG P220 HW Japan Ground Self Defense Force Green Gas Airsoft Pistol (ABS)', 'Tanaka SIG P220 HW Japan Air Self Defense Force Green Gas Airsoft Pistol (ABS)', 'Tanaka SIG P220 HW Japan Maritime Self Defense Force Evolution Model Gun', 'Tanaka SIG P220 HW Japan Air Self Defense Force Evolution Model Gun', 'Tanaka Airsoft Colt SAA 2nd 7-1/2 inch Pegasas 2 Gas Revolver', 'Tanaka S&W M19 6 inch Ver.3 Heavyweight Model Gun', 'KTW M1873 Carbine (New Version)', 'Marushin Mateba Gas Revolver 5 inch - Black (Heavyweight Wood Grip Version)', 'Tanaka S&W M29 6.5 inch Counterbored Heavyweight Ver.3 Gas Revolver', 'Tanaka S&W M29 4 inch Counterbored Heavyweight Ver.3 Gas Revolver', 'Marushin Mateba Gas Revolver 6 inch - W Deep Black (Heavyweight Wood Grip Version)', 'Marushin Mateba Gas Revolver 5 inch - W Deep Black (Heavyweight Wood Grip Version)', 'Marushin Mateba Gas Revolver 4 inch - Black (Heavyweight Wood Grip Version)', 'Marushin Mateba Gas Revolver 4 inch - Silver (Heavyweight Wood Grip Version)', 'Marushin Mateba Gas Revolver 6 inch - Silver (Heavyweight Wood Grip Version)', 'Marushin Mateba Gas Revolver 4 inch - W Deep Black (Heavyweight Wood Grip Version)', 'Marushin Mateba Gas Revolver 5 inch - Matt Black (Heavyweight Wood Grip Version)', 'Marushin Mateba Gas Revolver 6 inch - Matt Black (Heavyweight Wood Grip Version)', 'Marushin Mateba Gas Revolver 5 inch - Silver (Heavyweight Wood Grip Version)', 'Marushin Mateba Gas Revolver 4 inch - Matt Black (Heavyweight Wood Grip Version)', 'Marushin Mateba Gas Revolver 6 inch - Black (Heavyweight Wood Grip Version)', 'VFC M249 SAW Machine Gun GBB Airsoft', 'LCT AKM Airsoft AEG Rifle - Black', 'Tokyo Marui Hi Capa 4.3 Green Gas Airsoft Pistol (US Version)', 'TTI Airsoft TP22 Competition GBB Airsoft Pistol - BK (US Version)', \"EMG TTI 2011 Combat Master 'Alpha' GBB Airsoft Pistol - Semi / Full Auto (by AW Custom)\", \"EMG TTI 2011 Combat Master 'Alpha' GBB Airsoft Pistol - Standard (by AW Custom)\", \"RWC Battle Arms Development 556-LW Airsoft AEG Rifle (Umi Edition) - Cerakote Robin's Egg Blue Battleworn\", 'RWC Battle Arms Development SBR Airsoft AEG Rifle (Liku Edition) - Cerakote USMC Red Battleworn', 'VFC BCM MCMR Airsoft AEG Rifle (CQB 11.5 inch) Build-in GATE ASTER', 'VFC FN MK48 MOD 1 Airsoft AEG Machine Gun - Black', 'VFC KAC SR16E3 CQB MOD2 GBB Airsoft Rifle (V3) - Black', 'EMG F1 Firearms SBR C7M CO2 Blowback Airsoft Rifle - Black (by APS)', 'EMG TTI John Wick 4 PIT VIPER GBB Airsoft Pistol - Full Auto ver. (by AW Custom)', 'EMG Noveske N4 GBBR (MWS System) by Double Eagle - Black', 'Maruzen P38 AC40.s GBB Airsoft Pistol (Stainless Finish)', 'Maruzen P38 AC40.s GBB Airsoft Pistol (Black Metal Finish)', 'Tanaka Colt Detective Special 2 inch R-Model Heavyweight Model Gun', 'Maruzen VZ61 Scorpion GBB SMG', 'Hartford S&W Victory Model Heavyweight 5 inch Blue Black Revolver (Model Gun)', 'Hartford Derringer No. 3 Heavyweight Tokyo Shop Custom Model Gun - Black', 'Tanio Koba GM-7.5 IMBEL M1911 Model Gun', 'Little Armory LA015 M1911A1 & Commander Type Mini Gun (1/12 Scale)', 'Little Armory LA029 Kriss Vector SMG Mini Gun (1/12 Scale)', 'Little Armory LA045 MP5K Koffer Type Mini Gun (1/12 Scale)', 'Little Armory LA080 XM177E2 / M653 Type Mini Gun (1/12 Scale)', 'Little Armory LA073 Carl Gustaf 84mm M2 Mini Gun (1/12 Scale)', 'Little Armory LA079 AKMS & AKMSU Type Mini Gun (1/12 Scale)', 'Novritsch SSQ22 GBB Airsoft Rifle - Black', 'Tokyo Marui P90 Plus Airsoft AEG Rifle', 'ARES SCAR-H Airsoft AEG Rifle (FN Herstal Licensed, Black)', 'ARES SCAR-L Airsoft AEG Rifle (FN Herstal Licensed, Black)', 'ARES SCAR-L Airsoft AEG Rifle (FN Herstal Licensed, Dark Earth)', 'ARES SCAR-H TRP-20 Airsoft AEG Rifle (FN Herstal Licensed, Black)', 'ARES SCAR-H TRP-20 Airsoft AEG Rifle (FN Herstal Licensed, Dark Earth)', 'EMG xUDR Noveske Gen 4 Shorty 10.5 Handguard CO2 Blowback Airsoft Rifle - Black (by APS)', 'Novritsch SSP18 Green Gas Airsoft Pistol - Grey', 'Novritsch SSP18 CO2 GBB Airsoft Pistol - Black', 'Novritsch SSP18 CO2 GBB Airsoft Pistol - Green', 'EMG TTI John Wick 4 PIT VIPER GBB Airsoft Pistol - Blackout, Semi Auto ver. - (by AW Custom)', 'Guns Modify MK18 MOD1 DD Rail Style 10.3 inch MWS GBBR Airsoft', 'SIG SAUER P320 XCARRY Green Gas Airsoft Pistol - Black (by SIG AIR & VFC) - 6mm', 'Tanaka Smolt Revolver 6 inch Square Butt Heavy Weight Ver.3 Gas Revolver', 'Tanaka Smolt Revolver 4 inch Square Butt Heavy Weight Ver.3 Gas Revolver', 'Tanaka SIG P220 HW Japan Maritime Self Defense Force Green Gas Airsoft Pistol', 'CAW M1911A1 Heavy Weight Model Gun', 'KSC MK23 Socom Airsoft CO2 Pistol (Japan Version)', 'Tanaka Airsoft Colt SAA 2nd 4-3/4 inch Pegasas 2 Gas Revolver', 'Tanaka S&W M40 2 inch Centennial 1966 Early Heavy Weight Model Gun', 'Tanaka S&W M40 3 inch Centennial Model Gun', 'Tanaka S&W M19 2.5 inch Ver.3 Heavy Weight Gas Revolver', 'Tanaka S&W M13 3 inch FBI Special Heavy Weight Ver.3 Model Gun', 'Tanaka S&W M37 Air Weight 2 inch J-Police Steel Jupiter Finish Ver.2 Gas Revolver', 'Tanaka S&W .38 Square Butt Joker Model 2 inch Heavy Weight Gas Revolver', 'KTW Ithaca M37 Feather Light Full Metal Model', 'EMG F1 Firearms UDR CO2 Blowback Airsoft Rifle - Black (by APS)', 'Tanaka S&W Python 357 Smolt Revolver 6 Inch Heavy Weight Ver.3 Model Gun', 'Tanaka S&W Python 357 Smolt Revolver 4 Inch Heavy Weight Ver.3 Model Gun', 'Tanaka S&W M29 Counterbored 6.5inch Dirty Harry Heavy Weight Model Gun', 'Tanaka Colt Python 357 Magnum 6 Inch R Model Heavyweight Model Gun', 'Tanaka Colt Python 357 Magnum 3 Inch R Model Heavyweight Model Gun', 'Tanaka S&W Performance Center M327 M&P R8 5 inch Heavy Weight Ver. 2 Model Gun', 'Classic Army M132 Micro Gun AEG Airsoft - Black', 'Classic Army Nemesis X9 AEG Airsoft SMG - Black', 'Classic Army Nemesis X9 AEG Airsoft SMG - Dark Bronze', 'Classic Army Nemesis X9 AEG Airsoft SMG - Grey', 'GBLS DAS M1911A1 GBB Airsoft Pistol (Full Steel, Black)', 'EMG Colt MK18 Mod 1 GBB Airsoft Rifle V2 by T8 (SP System)', 'EMG Noveske 9 (9mm PCC) Airsoft AEG Rifle - Black (by APS)', 'APS X1 Xtreme CO2 Blowback Airsoft Rifle - Black', 'Tanaka S&W M29 Counterbored 4 inch Heavyweight Revolver (Model Gun)', 'Tanaka S&W M29 Counterbored 8-3/8 inch Heavyweight Revolver (Model Gun)', 'Tanaka S&W M19 6 inch Heavyweight Version 3 Gas Revolver', 'Tanaka S&W M36 3 inch Heavyweight Gas Revolver', 'A!CTION Blacklagoon Pistola M1911 .45 Model Gun', 'KSC M11A1 Heavyweight Gas SMG (Japan Version)', 'LCT TK PDW 9mm Airsoft AEG Rifle - Black', 'LCT PPK-20 Airsoft AEG Rifle (LPPK-20) - Black', 'LCT AK19 Rifle AEG Airsoft -Black', 'EMG Troy Industries SOCC M4 AEG Airsoft Rifle (15inch RIS, DE, by King Arms)', 'EMG Troy Industries SOCC M4 AEG Airsoft Rifle (10.5inch RIS, DE, by King Arms)', 'EMG Troy Industries SOCC M4 AEG Airsoft Rifle (7.6inch RIS, DE, by King Arms)', 'King Arms SAA .45 Peacemaker Revolver M - Electroplating Black (Version II, Gas Version)', 'King Arms SAA .45 Peacemaker Revolver M - Bluing (Version II, Gas Version)', 'King Arms SAA .45 Peacemaker Revolver S - Electroplating Black (Version II, Gas Version)', 'King Arms SAA .45 Peacemaker Revolver S - Bluing (Version II, Gas Version)', '#1467 MK18 MOD1 GBB Airsoft Rifle V2', 'Novritsch SSP2 Green Gas Airsoft Pistol - Black', 'WE M712 GBB Airsoft Carbine - Black (No Marking Version)', 'Army Armament John Wick 4 Taran Tactical Pit Viper GBB Airsoft Pistol (R614) (CNC Aluminum Slide)', 'Strike Industries 2K Alpha Hi Capa GBB Airsoft Pistol (RMR) by EMG & G&P', 'Army Armament Limcat 4.3 Hi Capa GBB Airsoft Pistol (R610-3 Purple)', 'Arcturus X C.A.T. M4 / AR15 Explorer AEG Airsoft Rifle (10 inch, Black)', 'Arcturus X C.A.T. M4 / AR15 Explorer AEG Airsoft Rifle (8.5 inch, Black)', 'TTI Airsoft TP22 Competition GBB Airsoft Pistol - BK', 'T8 M4A1 RIS MWS GBBR w/ Lancer Magazine (SP System)', 'EMG Noveske N4 GBBR V2 (MWS System) by T8 (SP System) - Black', 'EMG Noveske N4 GBBR V2 (MWS System) by T8 (SP System) - FDE', 'Tanaka Revolver S&W M68 C.H.P. 6 inch Model Gun', 'A!CTION Mauser C96 Red9 Matt Black Model Gun', 'CAW Nambu Type14 Last Stage Version Model Gun', 'CAW M1849 Pocket Later Version 6 inch HW Model Gun', 'Tokyo Marui MP5 SD6 Next Generation (NGRS EBB) Airsoft AEG Rifle', 'Maple Leaf MLC-LTR Lightweight Tactical Airsoft Sniper Rifle (150 m/s) - BK', 'Maple Leaf MLC-LTR Lightweight Tactical Airsoft Sniper Rifle (150 m/s) - DE', 'Silverback MDR-X Airsoft AEG Rifle - Black (V2)', 'Silverback MDR-X Airsoft AEG Rifle - Two Tone (Black / FDE) (V2)', 'Silverback MDR-X Airsoft AEG Rifle - FDE (V2)', 'Army Armament Limcat 4.3 Hi Capa GBB Airsoft Pistol (R610-3)', \"RWC IPSC Leslie Cheung's Race Gun GBB Airsoft Pistol\", 'APS Shell-Ejecting CAM 870 Shotgun MKIII Classic Airsoft Marker', 'APS Shell-Ejecting CAM 870 Shotgun MKIII Special Force Airsoft Marker', 'APS Shell-Ejecting CAM 870 Shotgun MKIII Police Model Airsoft Marker', 'CYMA Platinum Daniel Defense M4A1 Carbine 12 inch Airsoft AEG Rifle - Black (CM105)', 'CYMA Platinum Daniel Defense MK18 Airsoft AEG Rifle - Black (CM105)', 'Arcturus Karambit MOD1 PDW 5.5 inch Airsoft AEG Rifle (LITE ME Version, Black)', 'Arcturus LWT MK-1 CQB 10 inch Airsoft AEG Rifle (Sport Version, Grey)', 'Arcturus Sword MOD1 CQB 9.55 inch Airsoft AEG Rifle (LITE ME Version, Black)', 'Arcturus Sword MOD1 Carbine 13.5 inch Airsoft AEG Rifle (LITE ME Version, Black)', 'Arcturus Sword MOD1 SBR 8 inch Airsoft AEG Rifle (LITE ME Version, Black)', 'KWA QRF MOD 3 Airsoft AEG Rifle (with 80rds Magazine)', 'KWA Ronin 47 Airsoft AEG Rifle (with Extra 120rds Magazine)', 'VFC Colt XM148 Grenade Launcher', 'Army Armament John Wick 3 Taran Tactical Combat Master Alpha GBB Airsoft Pistol w/ RMR Cut - Black', 'Tanaka Arisaka Type38 Carbine Gas Sniper - Walnut Stock Ver.2', 'Tanaka S&W M360J Sakura .38 Special 1-7/8 inch Model Gun Version 3 (Heavy Weight)', 'King Arms KWA / KSC M11A1 System 7 (NS2) Gas Blowback SMG w/ M11 PDW CNC Kit Installed (Black)', 'EMG Troy Industries SOCC M4 AEG Airsoft Rifle (15inch RIS, Black, by King Arms)', 'EMG Troy Industries SOCC M4 AEG Airsoft Rifle (10.5inch RIS, Black, by King Arms)', 'EMG Troy Industries SOCC M4 AEG Airsoft Rifle (7.6inch RIS, Black, by King Arms)', 'King Arms SAA .45 Peacemaker Revolver M - Silver (Verion II, Gas Version)', 'King Arms SAA .45 Peacemaker Revolver S - Silver (Verion II, Gas Version)', 'CANiK TP9 Elite Combat Green Gas Airsoft Pistol (Licensed by Cybergun) - Black', 'VFC COLT MK18 MOD 1 STD AEG Airsoft Rifle - Tan', 'EMG F1 Firearms GBB Airsoft Pistol (by APS) - Black', 'Umarex MP5K Early Type Gen 2 GBB SMG Airsoft (by VFC)', 'G&P Airsoft M203 Grenade Launcher (LMT Quick Lock QD Type) - Long', 'WE New Browning Hi Power MK1 w/ Stock GBB Airsoft Pistol - Black', 'WE New Browning Hi Power MK1 w/ Stock GBB Airsoft Pistol - Silver', 'Army Armament John Wick 3 Taran Tactical Combat Master GBB Airsoft Pistol (Sight Block, Black, R601-1)', 'Army Armament John Wick 3 Taran Tactical Combat Master GBB Airsoft Pistol (Sight Block, Two Tone, R601-1)', 'Tokyo Marui SAA.45 Artillery 5.5 inch Spring Revolver - Silver', 'G&G ARP556 2.0 Airsoft AEG Rifle - Black', 'G&G ARP9 2.0  Airsoft AEG Rifle - Black', 'Umarex S&W M29 Airsoft Revolver CO2 (8.3 inch, Brown Grip, 6mm Version) - Titanium Black (by WinGun)', 'Army Armament x SP System Kimber 1911 GBB Airsoft Pistol', 'E&L AKM Airsoft AEG Rifle (Real Wood) - Black (EL-A101S)', 'E&L AK-74N Airsoft AEG Rifle (Real Wood) - Black (EL-A102S)', 'E&L AK-104 Airsoft AEG Rifle - Black (EL-A103S)', 'E&L AK-105 Airsoft AEG Rifle - Black (EL-A108S)', 'Armour Tao Emergency Shotshell Carrier with 20mm Grenade Launcher', 'VFC HK416A5 GBB Airsoft Rifle - Tan(Umarex) Gen 3 - Standard Version', 'Tokyo Marui P7M13 Spring Airsoft Pistol', 'Tokyo Marui AUTOMAG III Spring Airsoft Pistol', 'Tokyo Marui Centimeter Master Spring Airsoft Pistol', 'Tanaka Tokarev TT-33 Heavy Weight Model Gun', 'Silverback TAC 41 A Bolt Action Rifle - Black', 'Silverback TAC 41 A Bolt Action Rifle - FDE', 'Silverback TAC 41 A Bolt Action Rifle - OD', 'Silverback TAC 41 A Bolt Action Rifle - WG', 'EMG TTI Combat Master G34 Slide w/ OMEGA Frame Gas Airsoft Pistol (by APS Custom) - Black', 'Arcturus PP19 01 Vityaz AEG Airsoft Rifle (ME Version, BK)', 'CYMA M16A4 Airsoft AEG Rifle (CM009A4)', 'CYMA AKM Airsoft AEG Rifle (Metal Hi Power Wood Version)(CM048M)', 'Tokyo Marui CURVE Compact Carry Gas Airsoft Pistol (Fixed Slide)', 'Tokyo Marui Python PPC Custom Spring Revolver 4 inch - Stainless Silver', 'Novritsch SSR-4 Airsoft AEG Rifle (Metal Receiver) - Black', 'Novritsch SSR-4 Airsoft AEG Rifle (Polymer Receiver) - Black', 'EMG TTI Combat Master G34 Slide w/ OMEGA Frame CO2 Airsoft Pistol (by APS Custom) - Black', 'EMG TTI Combat Master G34 Slide w/ OMEGA Frame CO2 Airsoft Pistol (by APS Custom) - Black/Silver', 'APS Shell-Ejecting CAM 870 Shotgun Bulldog Airsoft Marker', 'Novritsch SSG10 A2 Airsoft Sniper Rifle (Spring Power)', 'G&G MXC9 Airsoft AEG Rifle', 'VFC URGI GBB Airsoft Rifle V3 (14.5 inch Colt Licensed)', 'VFC URGI GBB Airsoft Rifle V3 (10.3 inch Colt Licensed)', 'VFC FAL (LAR) Standard Type III GBB Airsoft Sniper - Deluxe Version', 'ARES L42A1 Airsoft Sniper Rifle with Scope and Mount (Spring Power)', 'CYMA AK74 Airsoft AEG Rifle (Metal High Power Wood Version)', 'CYMA Thompson M1928A1 Airsoft SMG AEG (Black, Imitation Wood)(CM051)', 'RWA Nighthawk Custom War Hawk Green Gas Airsoft Pistol (Non-Rail Special Edition)', 'CANiK TP9 Elite Combat Green Gas Airsoft Pistol (Licensed by Cybergun) - Two Tone', 'KTW TANEGASHIMA Carbine Airsoft Sniper Rifle (Spring Power)', 'Tokyo Marui LCP II Compact Carry Green Gas Airsoft Pistol (Fixed Slide)', 'Tanaka S&W M29 8inch Counterbored Heavyweight Ver.3 Gas Revolver', 'Tanaka Colt Python .357 Magnum R-Model 4 Inch Heavy Weight Gas Revolver - Black', 'Novritsch SSG10 A1 Airsoft Sniper Rifle (Spring Power)', 'ARES Kar98K Sniper Airsoft Classic Rifle - Steel Version (Spring Power)', 'CYMA AK47 Airsoft AEG Rifle (Metal Frame with Real Wood Handguard)(CM042)', 'CYMA M5A4 RIS Airsoft AEG Rifle (CM041B)', 'CYMA M5K PDW Airsoft AEG Rifle (CM041PDW)', 'E&L AK74MN Airsoft AEG Rifle - Black (EL-A106S)', 'E&L AKMS Airsoft AEG Rifle (Real Wood) - Black (EL-A113S)', 'E&L AKS74MN Airsoft AEG Rifle - Black (EL-A107S)', 'WE Tech Hi Capa 5.1 Galaxy Premium S Green Gas Airsoft Pistol - Slide K Frame - Black', 'WE Tech Hi Capa 5.1 Galaxy Premium S Green Gas Airsoft Pistol - Slide R Frame - Silver', 'WE Tech Hi Capa 5.1 Galaxy Premium S Green Gas Airsoft Pistol - Slide K Frame - Silver', 'WE Tech Hi Capa 5.1 Galaxy Premium L Green Gas Airsoft Pistol - Slide K Frame - Silver', 'AW Custom Hi Capa 5.1 HX27 Green Gas Airsoft Pistol - Black', 'AW Custom Hi Capa 4.3 HX27 Green Gas Airsoft Pistol - Black', 'WE Tech Hi Capa 5.1 Galaxy Premium S Green Gas Airsoft Pistol - Slide R Frame - Black', 'BO Manufacture Chiappa Rhino 60DS .357 Magnum Style Airsoft Revolver (CO2) - Black', 'BO Manufacture Chiappa Rhino 60DS .357 Magnum Style Airsoft Revolver (CO2) - Silver', 'ARES AR308S Airsoft AEG Rifle (Bronze)', 'ARES AR308M Airsoft AEG Rifle (Bronze)', 'Army Armament R609 Hi Capa Green Gas Airsoft Pistol - Silver', 'Tokyo Marui AK Storm Next Generation (NGRS) Airsoft AEG Rifle - White', 'Classic Army M133 Mini Vulcan Rotating Multi-Barrel Airsoft AEG', 'Arcturus M4 / AR15 Carbine Airsoft AEG Rifle', 'JDG P80 PFS9 RMR Cut Green Gas Airsoft Pistol (Licensed by Polymer 80) - Black', 'JDG P80 PFS9 RMR Cut Green Gas Airsoft Pistol (Licensed by Polymer 80) - FDE', 'JDG P80 PFS9 RMR Cut Green Gas Airsoft Pistol (Licensed by Polymer 80) - Grey', 'WE-Tech Hi Capa 5.1 Galaxy Type A Green Gas Airsoft Pistol - Gold Slide R Frame', 'WE-Tech Hi-Capa 5.1 Galaxy Type A Green Gas Airsoft Pistol - Purple Slide R Frame', 'WE-Tech Hi Capa 5.1 Galaxy Type A Green Gas Airsoft Pistol - Silver Slide R Frame', 'WE-Tech Hi Capa 5.1 Galaxy Type A Green Gas Airsoft Pistol - Gold Slide K Frame', 'WE-Tech Hi Capa 5.1 Galaxy Type A Green Gas Airsoft Pistol - Blue Slide K Frame', 'WE-Tech Hi Capa 5.1 Galaxy Type A Green Gas Airsoft Pistol - Purple Slide K Frame', 'WE-Tech Hi Capa 5.1 Galaxy Type A Green Gas Airsoft Pistol - Silver Slide K Frame', 'Novritsch SSR15 Airsoft AEG - Black', 'Novritsch SSP18 Green Gas Airsoft Pistol - Black', 'Novritsch SSP18 Green Gas Airsoft Pistol - OD Green', 'VFC MK48 MOD1 Deluxe Airsoft AEG Machine Gun', 'BO Manufacture Chiappa Rhino 60DS .357 Magnum Style Airsoft Revolver (CO2) - Gold 18K (Limited Edition)', 'Tanaka Colt Python .357 Magnum R-Model 3 Inch Heavy Weight Gas Revolver - Black', 'WinGun Webley MK VI .455 Airsoft Revolver CO2 (4 inch Police Model, 6mm Version) - Aged Finish', 'RWC Agency Arms EXA Green Gas Airsoft Pistol - (Stainless Steel Barrel w/ 417 Compensator - Silver)', 'RWC Agency Arms EXA Green Gas Airsoft Pistol - (Stainless Steel Barrel w/ 417 Compensator - BK)', 'RWC Agency Arms EXA Green Gas Airsoft Pistol - (Stainless Steel Barrel w/ 417 Compensator - GD)', 'RWA Nighthawk Custom War Hawk Green Gas Airsoft Pistol (Special Edition)', 'CYMA M16A1 Vietnam Airsoft AEG Rifle (CM009A1)', 'G&G CM16 LMG (Combat Machine) Stealth Airsoft AEG Rifle  - Black', 'G&G CM16 Raider (Combat Machine) Airsoft AEG Rifle - Black', 'G&G CM16 Raider-L (Combat Machine) Airsoft AEG Rifle - Black', 'G&G CM16 Raider 2.0 (Combat Machine) Airsoft AEG Rifle - Black', 'G&G ARP556 M4 PDW Airsoft AEG - Black', 'RWA Agency Arms EXA Green Gas Airsoft Pistol - Cerakote Woodland', 'SIG Sauer MPX Airsoft AEG Rifle (by SIG AIR & VFC)', 'Snow Wolf M41A Pulse Airsoft AEG Rifle (Alien Gun) - Tan (SW-11 TN)', 'Snow Wolf M41A Pulse Airsoft AEG Rifle (Alien Gun) - Black (SW-11 BK)', 'LCT SR3 Compact PDW Airsoft AEG Rifle (Folding Stock)', 'LCT HK53 A2 Airsoft AEG Rifle (LK-53A2)', 'LCT HK53 A3 Airsoft AEG Rifle (LK-53A3)', 'RWA Agency Arms EXA Green Gas Airsoft Pistol - Cerakote Copper', 'Strike Industries ARK 17 Green Gas Airsoft Pistol with Detachable Compensator (2-Tone BK / SV)', 'Arcturus AK12K Airsoft AEG Rifle', 'Novritsch SSG96 Airsoft Sniper Rifle (Spring Power)', 'Novritsch SSP1 Green Gas Airsoft Pistol', 'Novritsch SSX23 Green Gas Airsoft Pistol', 'Novritsch SSX303 Stealth Gas Airsoft Rifle', 'ARES M4 X-Class Model 12 Airsoft AEG Rifle - Bronze', 'RWC Agency Arms EXA Green Airsoft Pistol (Stainless Steel Black Barrel & 417 Compensator - Silver)', 'Snow Wolf Thompson M1A1 SMG Airsoft AEG Rifle (Metal Body)(SW-05)', 'Snow Wolf Metal Bergmann MP-18 SMG Airsoft AEG - Real Wood (SW-021)', 'Snow Wolf PPSH 41 AEG Airsoft Classic Rifle (Real Wood) - Black (SW-09W)', 'Snow Wolf Kar98K Sniper Airsoft Classic Rifle - Real Wood (SW-022W) (Spring Power)', 'RWA Agency Arms EXA Green Gas Airsoft Pistol - Cerakote Stealth Camo', 'RWA Agency Arms EXA Green Gas Airsoft Pistol - Cerakote Deer Hunter Camo', 'RWA Agency Arms EXA Green Gas Airsoft Pistol - Cerakote Multicam Arid', 'RWA Agency Arms EXA Green Gas Airsoft Pistol - Cerakote Polar Blue', 'RWA Agency Arms EXA Green Gas Airsoft Pistol - Cerakote Squatch Green', 'ASG CZ Scorpion EVO 3 ATEK Airsoft AEG Rifle - FDE', 'ASG CZ Scorpion EVO 3 ATEK Airsoft AEG Rifle - Black', 'Tokyo Marui MP5A5 Next Generation (NGRS EBB) Airsoft AEG Rifle', 'WE 1911 Galaxy Green Gas Airsoft Pistol - Blue Slide with Black Frame', 'WE 1911 Galaxy Green Gas Airsoft Pistol - Silver Slide with Black Frame', 'WE 1911 Galaxy Green Gas Airsoft Pistol - Black Slide with Silver Frame', 'WE 1911 Galaxy Green Gas Airsoft Pistol - Blue Slide with Silver Frame', 'WE 1911 Galaxy Green Gas Airsoft Pistol - Purple Slide with Silver Frame', 'WE 1911 Galaxy Green Gas Airsoft Pistol - Gold Slide with Silver Frame', 'King Arms M2 Paratrooper GBBR Airsoft', 'King Arms M2 Carbine GBBR Airsoft', 'King Arms M4 TWS M-Lok Version 2 Limited Edition Airsoft AEG Rifle - BK', 'Tanaka Revolver S&W M67 Combat Masterpiece 4 inch Ver.3 (Airsoft Gas Version)', 'RWA Battle Arms Development 556-LW Airsoft AEG Rifle', 'RWA Battle Arms Development SBR Airsoft AEG Rifle', 'VFC BCM MCMR GBBR Airsoft (CQB 11.5 inch)', 'VFC HK417 12 inch V2 Airsoft AEG Rifle (Umarex)', 'RWA Nighthawk Custom War Hawk Green Gas Airsoft Pistol (Rail Version)', 'RWA Nighthawk Custom War Hawk Green Gas Airsoft Pistol (Non-Rail Version)', 'B&T USW A1 Green Gas Airsoft Pistol - Black (by ASG & KJ Works)', 'LDT MGL Grenade Launcher with Retractable Stock - Black', 'LDT MGL Grenade Launcher with Retractable Stock - DE', 'Tokyo Marui AKM ZET System GBBR Airsoft', 'Hartford Nagant M1895 Revolver (Model Gun)', 'KSC M93RCC Combat Courier Heavy Weight Green Gas Airsoft Pistol', 'Maruzen CA870 Bulldog Airsoft Spring Shotgun', 'E&C M16VN Airsoft AEG Rifle EC319 (QD 1.5 Gearbox, Blank Marking) - Black', 'E&C M4 Airsoft AEG Rifle with M203 Grenade Launcher EC701 (QD 1.5 Gearbox, Blank Marking) - Black', 'G&G 1911 (GPM1911CP) GBB Airsoft Pistol', 'Umarex MP5K PDW Airsoft SMG GBB V2 (by VFC)', 'ARES M320 40mm Airsoft Grenade Launcher - DE', 'Army Armament R604 STI DVC P Airsoft Green Gas Airsoft Pistol - Black', 'Silverback TAC 41 P Bolt Action Rifle - FDE', 'Silverback TAC 41 P Airsoft Bolt Action Rifle - Wolf Grey', 'Arcturus AKM Custom Airsoft AEG Rifle', 'Arcturus AK74U Custom Airsoft AEG Rifle', 'Tokyo Marui LCP Compact Carry Green Gas Airsoft Pistol (Fixed Slide)', 'Tokyo Marui V10 Ultra Compact Green Gas Airsoft Pistol - Black', 'WE Galaxy G Series Green Gas Airsoft Pistol - Blue', 'WE Galaxy G Series Green Gas Airsoft Pistol - Silver', 'King Arms TWS 9mm SBR GBBR Airsoft - Black', 'SIG Sauer M17 P320 CO2 Airsoft Pistol - Black (by SIG AIR & VFC) - 6mm', 'SIG Sauer M17 P320 Green Gas Airsoft Pistol - Black (by SIG AIR & VFC) - 6mm', 'SIG Sauer M18 P320 Green Gas Airsoft Pistol - Black (by SIG AIR & VFC) - 6mm', 'Farsan 601 Mini Toy M16 Electric Gun - Black', 'Farsan Real Wood 0521 6mm Double Barrel Gas Shotgun (Short)', 'Farsan 0012 FBI Metal Model Gun - Black', 'Farsan FS-0113 Metal Mini Model Gun Revolver - Black', 'Farsan 0316 TT33 Metal Model Gun - Silver', 'Farsan 0316 TT33 Metal Model Gun - Black', 'Farsan 9607 PPK Metal Model Gun - Black', 'G&G PCC45 Airsoft AEG Rifle', 'CSI Airsoft STAR XR-5 (FG-1508) Advanced Main Battle Airsoft AEG Rifle (White)', 'CSI Airsoft STAR XR-5 (FG-1504) Advanced Main Battle Airsoft AEG Rifle (Red)', 'CSI Airsoft STAR XR-5 (FG-1502) Advanced Main Battle Airsoft AEG Rifle (Red)', 'CSI Airsoft STAR XR-5 (FG-1506) Advanced Main Battle Airsoft AEG Rifle (Blue)', 'CSI Airsoft STAR XR-5 (FG-1501) Advanced Main Battle Airsoft AEG Rifle (Blue)', 'WE M16A3 PCC GBBR Airsoft', 'RWA Nighthawk Custom AGENT 2 Green Gas Airsoft Pistol - Cerakote NHC Smoke', 'RWA Nighthawk Custom AGENT 2 Green Gas Airsoft Pistol - Cerakote Silver', 'KWC P08 Air Gun (4.5mm CO2 Blowback)', 'KWC Tanfoglio (K75) Air Gun (4.5mm CO2 Blowback)', 'VFC 1911 Kimber LAPD SWAT Custom II Green Gas Airsoft Pistol', 'King Arms SAA .45 Peacemaker Revolver S - Silver (Gas Version)', 'Field Arms EVA Foam Dart for Blaster Toy Gun - Yellow', 'ICS MP5A5 CES Retractable Stock Airsoft AEG Rifle - Black', 'ICS MP5A4 CES Fixed Stock Airsoft AEG Rifle - Black', 'WE Mauser M712 Green Gas Airsoft Pistol - Silver', 'G&P M249 SF (FIXED STOCK VERSION)', 'Silverback SRS A2 / M2 Airsoft Sniper Rifle (22 inch Barrel) Licensed by Desert Tech - BK', 'Silverback SRS A2 / M2 Airsoft Sniper Rifle (Covert, 16 inch Barrel) Licensed by Desert Tech - BK', 'Silverback SRS A2 / M2 Airsoft Sniper Rifle (Covert, 16 inch Barrel) Licensed by Desert Tech - FDE', 'Silverback SRS A2 / M2 Airsoft Sniper Rifle (Covert, 16 inch Barrel) Licensed by Desert Tech - FDE (Left Hand)', 'Silverback SRS A2 / M2 Airsoft Sniper Rifle (Covert, 16 inch Barrel) Licensed by Desert Tech - OD', 'Silverback SRS A2 / M2 Airsoft Sniper Rifle (Sport, 16 inch Barrel) Licensed by Desert Tech - FDE', 'Silverback SRS A2 / M2 Airsoft Sniper Rifle (Sport, 16 inch Barrel) Licensed by Desert Tech - OD', 'Silverback SRS A2/M2 Sport (16 inch Barrel) Licensed by Desert Tech - OD (Left Hand)', 'ZURU X-Shot Micro Dart Blaster', 'Field Arms EVA Foam Dart for Blaster Toy Gun - Grey', 'Field Arms EVA Foam Dart for Blaster Toy Gun - Red', 'Tokyo Marui MP5K High Cycle SMG Airsoft AEG', 'Tanaka Revolver S&W M500 PC 3+1 inch Stainless Jupiter Finish Ver. 2 (Gas Version)', 'ARES Amoeba Mutant - AMM7 Airsoft AEG Rifle - Black', 'Umarex USP .45 Tactical Metal Slide Green Gas Airsoft Pistol (by KWA)', 'KWA QRF MOD 2 Airsoft AEG Rifle (with Extra 120rds Magazine)', 'ARES KelTec RDB Airsoft AEG Rifle - Dark Earth', 'VFC PSG-1 GBBR Airsoft (Umarex)', 'ZURU X-Shot Hurricane Clip Blaster', 'ZURU X-Shot Turbo Fire Blaster', 'G&G KAC SR15E3 MOD2 Carbine Airsoft AEG Rifle', 'G&G KAC SR30 Airsoft AEG Rifle', 'SIG Sauer M18 P320 Green Gas Airsoft Pistol - TAN (by SIG AIR & VFC) - 6mm', 'KTW TANEGASHIMA Matchlock Air Cocking Airsoft Classic Rifle', 'Tanaka Colt Python .357 Magnum R-Model 6 Inch Heavy Weight Gas Airsoft Revolver - Black', \"Tanaka x City Hunter Python R-Model 4 Inch 'Ryo Saeba' Heavy Weight Gas Revolver\", 'RWA Agency Arms EXA GBB Airsoft Pistol (US Version)', 'SIG Sauer MCX Virtus SBR Airsoft AEG Rifle (by SIG AIR & VFC) - Black', 'Modify PP-2K 9mm GBBR - White', 'Maruzen M870 Grip Version Plus One Live Cartridge Gas Shotgun', 'Cybergun Colt .25 GBB Airsoft Pistol with Marking - Black (by WE)', 'Cybergun Colt .25 GBB Airsoft Pistol with Marking - Silver (by WE)', 'WE Browning Hi-Power MK3 Green Gas Airsoft Pistol  - Black', 'APS Shell-Ejecting CAM 870 Shotgun MKIII Douchebag Airsoft Marker', 'LCT HK33 A3 (LK33A3) Airsoft AEG Rifle - Black', 'G&G CMF 16 Airsoft AEG Rifle - Black', 'G&G SSG-1 Airsoft AEG Rifle - Black', 'G&G GTP9 MS GBB Airsoft Pistol - Silver', 'G&G M14 EBR L ETU Airsoft AEG Rifle - Black', 'Umarex Glock 45 GBB Airsoft Pistol (by VFC)', 'Tokyo Marui FNX 45 Tactical GBB Airsoft Pistol - Black', 'ARES WA2000 Sniper Airsoft Classic Rifle - New Version (Spring Power)', 'ARCHWICK MK13 MOD 7 Airsoft Sniper Rifle - TAN (Spring Power)', 'ARES Striker AST 01 Airsoft Sniper Rifle - Dark Earth (Spring Power)', 'ARES Striker AST 01 Airsoft Sniper Rifle - Urban Grey (Spring Power)', 'Tokyo Marui AK Storm Next Generation (NGRS) Airsoft AEG Rifle', 'Action Army AAP 01 Assassin GBB Airsoft Pistol - Black', 'Action Army AAP 01 Assassin GBB Airsoft Pistol - FDE', 'KJ Works 1911 KP-16 GBB Airsoft Pistol - FDE', 'Umarex MP5A5 Gen 2 GBBR Airsoft (by VFC)', 'LCT AKS74M Airsoft AEG Rifle (Z Series ZKS-74M)', 'LCT AK104 Airsoft AEG Rifle (Z Series ZK-104)', 'LCT PP19 Airsoft AEG Rifle (Z Series ZP-19-01)', 'LCT LCK 16 Airsoft AEG Rifle', 'Tokyo Marui MTR16 G-Edition GBBR Airsoft (ZET System) - Cerakote Version', 'SIG Sauer M17 P320 CO2 Airsoft Pistols - TAN (by SIG AIR & VFC) - 6mm', 'Umarex Glock 42 GBB Airsoft Pistol (by VFC)', 'Tokyo Marui V10 Ultra Compact GBB Airsoft Pistol - Silver', 'G&G SMC 9 GBB SMG', 'EMG Colt Daniel Defense 9.5 inch MK18 MOD 1 Airsoft AEG Rifle - Black (by King Arms)', 'G&G GC16 Predator Airsoft AEG Rifle - Black', 'Cybergun Desert Eagle L6 .50AE GBB Airsoft Pistol - Black (by WE)', 'Cybergun Desert Eagle L6 .50AE GBB Airsoft Pistol - Silver (by WE)', 'Umarex Glock 18C Green Gas Airsoft Pistol (by VFC)', 'Tokyo Marui Type 89 Folding Stock GBB Airsoft Rifle (ZET System)', 'RWA Nighthawk Custom AGENT 1 GBB Airsoft Pistol', 'G&G Cobalt Kinetics BAMF TEAM Airsoft AEG Rifle', 'GHK MK18 MOD1 GBBR Airsoft (COLT Licensed) - New Version', 'Tokyo Marui HK45 Tactical GBB Airsoft Pistol - Black', 'VFC Avalon Samurai EDGE Airsoft AEG Rifle - Black', 'Modify Bolt Action Air Rifle MOD24 SF - Black', 'Modify Bolt Action Air Rifle MOD24 SF - OD', 'Modify MOD24 SF Bolt Action Airsoft Rifle - TAN', 'Umarex Glock 17 Gen 5 GBB Airsoft Pistol (by VFC)', 'SIG Sauer M17 P320 Green Gas GBB Airsoft Pistol - TAN (by SIG AIR & VFC) - 6mm', 'Tokyo Marui Python PPC Custom Spring Revolver 6 inch - Stainless', 'Umarex Glock 19 Gen 4 GBB Airsoft Pistol (by VFC)', 'ARES Amoeba STRIKER AS03 Airsoft Sniper Rifle - OD (Spring Power)', 'ARES Amoeba STRIKER AS03 Airsoft Sniper Rifle - BK (Spring Power)', 'ICS Korth PRS 4 inch GBB Airsoft Pistol - Black (Licensed by Korth)', 'Umarex MP7 Airsoft AEG SMG Gen 2 (by VFC)', 'KJ Works CZ Shadow 2 CO2 Airsoft Pistols (ASG Licensed)', 'KJ Works CZ Shadow 2 GBB Airsoft Pistol (ASG Licensed)', 'AVATAR HORNET M25 White Cerberus Kit w/ Stock (Mass Effect) for G17 / G18 AEP / GBB', 'AVATAR HORNET M25 Black Obsidian Kit w/ Stock (Mass Effect) for G17 / G18 AEP / GBB', 'Tokyo Marui Hi Capa D.O.R. (Direct Optics Ready) GBB Airsoft Pistol', 'Umarex Glock 19x Green Gas GBB Airsoft Pistol - Tan (by VFC)', 'Cybergun Colt 1911 GBB Airsoft Pistol - Silver (by WE)', 'Tokyo Marui Python PPC Custom Airsoft Spring Revolver 6 inch - Black', 'Tanaka Kar98K Air - Bolt Action Air Cocking Airsoft Classic Rifle', 'G&P M4 Daniel Defense AEG Airsoft Rifle - Sand on Black', 'Silverback HTI .50 BMG Airsoft Sniper Rifle (Pull Bolt) Black / FDE (Spring Power)', 'Silverback HTI .50 BMG Airsoft Sniper Rifle (Pull Bolt) Black / Black (Spring Power)', 'G&P M4 Daniel Defense AEG Airsoft Rifle - Black', 'Tokyo Marui MK18 Mod 1 Next Generation (NGRS) Airsoft AEG Rifle', 'Tokyo Marui HK45 AEP Airsoft Pistol - Black', 'Cybergun Colt 1911 GBB Airsoft Pistol - Black (by WE)', 'VFC HK416A5 AEG Airsoft Rifle - Black (Umarex)', 'VFC HK416A5 AEG Airsoft Rifle - Tan (Umarex)', 'WinGun Airsoft Revolver CO2 703 (8 inch, Brown Grip, 6mm Version) - Black', 'APS Shell-Ejecting CAM 870 Shotgun MKIII Magnum Airsoft Marker', 'Umarex MP5A4 AEG Airsoft Rifle (by VFC)', 'Airsoft Surgeon Airsoft Revolver (Classic Version II)', 'Airsoft Surgeon Airsoft Revolver (Classic Version III)', 'Airsoft Surgeon Airsoft Revolver (Classic Version IV)', 'Airsoft Surgeon Airsoft Revolver (Classic Version V)', 'WinGun Airsoft Revolver CO2 702 (6 inch, Brown Grip, 6mm Version) - Black', 'MAXTACT Derringer Full Metal 6mm Green Gas Airsoft Pistol - Black', 'MAXTACT Derringer Full Metal 6mm Green Gas Airsoft Pistol - Gold', 'APS CAM MKIII SAI Deluxe Match Airsoft Marker (EMG, SAI Licensed)', 'Tokyo Marui Biohazard Albert.W.Model 01P (Umbrella Corporation) GBB Airsoft Pistol', 'Tokyo Marui MTR16 GBBR Airsoft (ZET System) - Cerakote Version', 'AW Custom Built Luger P08 Star War Style 6 Inch Muzzle Device GBB Airsoft Pistol', 'ARES Amoeba STRIKER AS02 Airsoft Sniper Rifle - Black (Spring Power)', 'ARES Amoeba STRIKER AS02 Airsoft Sniper Rifle - Drab Olive (Spring Power)', 'ARES Amoeba STRIKER AS02 Airsoft Sniper Rifle - Olive Drab (Spring Power)', 'G&P Daniel Defense MK18 Mod I - Black', 'Tokyo Marui Type 89 J.G.S.D.F. GBBR Airsoft (ZET System)', 'G&G ARP556 AEG - Battleship Grey', 'LCT PKP Airsoft LMG AEG', 'Airsoft Surgeon Airsoft Revolver (Black Hawk Short)', 'AW Custom HX22 Gold Standard IPSC Shooting GBB Airsoft Pistol - Black']\n",
            "['$189.99', '$359.99', '$249.99', '$104.99', '$139.99', '$539.99', '$479.99', '$549.99', '$599.99', '$454.99', '$99.99', '$85.99', '$104.99', '$109.99', '$85.99', '$549.99', '$379.99', '$389.99', '$419.99', '$419.99', '$449.99', '$469.99', '$499.99', '$179.99', '$183.99', '$159.99', '$169.99', '$169.99', '$249.99', '$229.99', '$229.99', '$204.99', '$204.99', '$283.99', '$269.99', '$329.99', '$279.99', '$279.99', '$279.99', '$289.99', '$289.99', '$279.99', '$279.99', '$279.99', '$289.99', '$259.99', '$259.99', '$279.99', '$259.99', '$279.99', '$699.99', '$449.99', '$129.99', '$119.99', '$229.99', '$215.99', '$699.99', '$699.99', '$449.99', '$899.99', '$539.99', '$399.99', '$219.99', '$392.99', '$199.99', '$209.99', '$289.99', '$159.99', '$269.99', '$169.99', '$339.99', '$9.99', '$12.99', '$10.99', '$13.99', '$18.99', '$23.99', '$13.99', '$16.99', '$449.99', '$309.99', '$536.99', '$509.99', '$509.99', '$636.99', '$636.99', '$348.99', '$227.99', '$227.99', '$227.99', '$209.99', '$549.99', '$169.99', '$259.99', '$249.99', '$239.99', '$269.99', '$229.99', '$249.99', '$219.99', '$239.99', '$339.99', '$249.99', '$519.99', '$399.99', '$249.99', '$249.99', '$259.99', '$249.99', '$249.99', '$249.99', '$659.99', '$279.99', '$299.99', '$299.99', '$1,269.99', '$545.99', '$299.99', '$295.99', '$249.99', '$263.99', '$249.99', '$239.99', '$479.99', '$249.99', '$389.99', '$389.99', '$449.99', '$387.99', '$369.99', '$359.99', '$147.99', '$167.99', '$145.99', '$167.99', '$499.99', '$164.99', '$199.99', '$199.99', '$209.99', '$83.99', '$359.99', '$349.99', '$119.99', '$499.99', '$519.99', '$519.99', '$279.99', '$398.99', '$269.99', '$299.99', '$569.99', '$439.99', '$439.99', '$549.99', '$549.99', '$549.99', '$83.99', '$1,999.99', '$324.99', '$209.99', '$295.99', '$329.99', '$319.99', '$197.99', '$159.99', '$219.99', '$219.99', '$214.99', '$299.99', '$299.99', '$319.99', '$150.99', '$789.99', '$249.99', '$429.99', '$375.99', '$369.99', '$365.99', '$153.99', '$151.99', '$149.99', '$399.99', '$159.99', '$399.99', '$109.99', '$104.71', '$118.99', '$119.99', '$136.99', '$130.99', '$133.99', '$99.99', '$309.99', '$289.99', '$191.99', '$89.99', '$266.99', '$266.99', '$251.99', '$459.99', '$31.99', '$31.99', '$31.99', '$256.99', '$499.99', '$499.99', '$499.99', '$499.99', '$225.99', '$319.99', '$199.99', '$199.99', '$73.99', '$45.99', '$319.99', '$239.99', '$253.99', '$253.99', '$349.99', '$609.99', '$354.99', '$549.99', '$534.99', '$1,299.99', '$659.99', '$209.99', '$159.99', '$165.00', '$149.99', '$865.99', '$73.99', '$239.99', '$219.99', '$389.99', '$499.99', '$199.99', '$169.99', '$169.99', '$246.99', '$249.99', '$235.99', '$129.99', '$149.99', '$139.99', '$159.99', '$139.99', '$159.99', '$149.99', '$169.99', '$175.99', '$399.99', '$409.99', '$116.99', '$479.99', '$1,088.00', '$229.99', '$169.99', '$169.99', '$169.99', '$99.99', '$114.99', '$99.99', '$114.99', '$99.99', '$119.99', '$99.99', '$114.99', '$99.99', '$114.99', '$99.99', '$114.99', '$99.99', '$119.99', '$689.99', '$289.99', '$289.99', '$165.00', '$169.99', '$449.99', '$189.99', '$199.99', '$199.99', '$307.99', '$299.99', '$449.99', '$301.99', '$301.99', '$364.99', '$431.99', '$479.99', '$239.99', '$309.99', '$345.99', '$499.99', '$245.99', '$219.99', '$379.99', '$379.99', '$289.99', '$129.99', '$339.99', '$244.99', '$199.99', '$299.99', '$299.99', '$299.99', '$239.99', '$239.99', '$389.99', '$409.99', '$389.99', '$409.99', '$529.99', '$109.99', '$129.99', '$119.99', '$139.99', '$119.99', '$142.99', '$119.99', '$142.99', '$119.99', '$142.99', '$119.99', '$419.99', '$149.99', '$149.99', '$199.99', '$166.99', '$166.99', '$539.99', '$399.99', '$239.99', '$99.99', '$199.99', '$239.99', '$154.99', '$469.99', '$191.99', '$115.99', '$349.99', '$349.99', '$286.99', '$339.99', '$73.99', '$169.99', '$99.99', '$111.99', '$99.99', '$169.99', '$169.99', '$169.99', '$22.99', '$229.99', '$125.99', '$59.99', '$140.99', '$140.99', '$189.99', '$309.99', '$109.99', '$129.99', '$109.99', '$129.99', '$109.99', '$129.99', '$109.99', '$129.99', '$109.99', '$129.99', '$299.99', '$342.99', '$1,198.00', '$1,198.00', '$309.99', '$190.99', '$499.99', '$499.99', '$469.99', '$469.99', '$499.99', '$469.99', '$379.99', '$379.99', '$409.99', '$7.99', '$3.99', '$3.99', '$249.99', '$459.99', '$236.99', '$169.99', '$309.99', '$321.99', '$699.99', '$759.99', '$21.99', '$32.99', '$419.99', '$169.99', '$1,140.00', '$249.99', '$359.99', '$149.99', '$449.99', '$259.99', '$299.99', '$269.99', '$95.99', '$109.99', '$87.99', '$99.99', '$269.99', '$459.99', '$299.99', '$319.99', '$189.99', '$569.99', '$159.99', '$149.99', '$647.99', '$599.99', '$232.99', '$232.99', '$84.99', '$89.99', '$156.99', '$479.99', '$659.99', '$499.99', '$449.99', '$459.99', '$549.99', '$169.99', '$139.99', '$169.99', '$309.99', '$339.99', '$329.99', '$151.99', '$190.99', '$159.99', '$509.99', '$1,288.00', '$569.99', '$599.99', '$169.99', '$399.99', '$489.99', '$489.99', '$159.99', '$169.99', '$45.99', '$149.99', '$159.99', '$159.99', '$159.99', '$359.99', '$154.99', '$154.99', '$99.99', '$139.99', '$99.99', '$139.99', '$139.99', '$159.99', '$122.99', '$45.99', '$599.99', '$431.99', '$799.99', '$799.99', '$431.99', '$549.99', '$419.99', '$419.99', '$113.99', '$313.99', '$289.99', '$3,461.00', '$3,461.00', '$3,461.00', '$3,461.00', '$115.99', '$60.99', '$76.99', '$442.99', '$199.99', '$549.99', '$170.99', '$199.99', '$199.99', '$199.99', '$419.99', '$509.99', '$329.99', '$949.99', '$3,206.00', '$162.99']\n"
          ]
        }
      ],
      "source": [
        "item = 1\n",
        "name_list = []\n",
        "price_list = []\n",
        "\n",
        "while item <= 20 :\n",
        "  data = requests.get('https://www.redwolfairsoft.com/guns/all?p=' + str(item))\n",
        "  soup = bs4.BeautifulSoup(data.text)\n",
        "\n",
        "  name = soup.find_all('strong',{'class':'product name product-item-name'})\n",
        "  price = soup.find_all('span',{'class':'price'}, limit = 25)\n",
        "\n",
        "  for i in name:\n",
        "    name_list.append(i.text)\n",
        "\n",
        "  for i in price:\n",
        "    price_list.append(i.text)\n",
        "\n",
        "  print('Complete item number: ',item)\n",
        "  item += 1\n",
        "\n",
        "print(name_list)\n",
        "print(price_list)\n",
        "table = pd.DataFrame([name_list,price_list]).transpose()\n",
        "table.columns = ['name','price']\n",
        "table.set_index('name')\n",
        "table.to_excel('AirsoftGunSell.xlsx',engine='openpyxl')"
      ]
    },
    {
      "cell_type": "code",
      "source": [
        "storage_account_key = \"a+xMAKZuhH59jmx6EIeYhnNADM2sO441qPG7GE29/VTR+svZdYh4KmK+RZfwtZY6woAcMjN5eJaB+ASt26ecRA==\"\n",
        "storage_account_name = \"boonyaweebigdata1\"\n",
        "connection_string = \"DefaultEndpointsProtocol=https;AccountName=boonyaweebigdata1;AccountKey=a+xMAKZuhH59jmx6EIeYhnNADM2sO441qPG7GE29/VTR+svZdYh4KmK+RZfwtZY6woAcMjN5eJaB+ASt26ecRA==;EndpointSuffix=core.windows.net\"\n",
        "container_name = \"blobinsertdata\"\n",
        "\n",
        "def uploadToBlobStorage(file_path,file_name):\n",
        "  blob_service_client = BlobServiceClient.from_connection_string(connection_string)\n",
        "  blob_client = blob_service_client.get_blob_client(container=container_name,blob=file_name)\n",
        "  try:\n",
        "    if blob_client.exists():\n",
        "        # Delete blob\n",
        "        blob_client.delete_blob()\n",
        "        print(\"Blob deleted successfully!\")\n",
        "    else:\n",
        "        print(\"Blob does not exist!\")\n",
        "    with open(file_path,\"rb\") as data:\n",
        "      blob_client.upload_blob(data)\n",
        "    print(f\"Uploaded {file_name}.successfully!\")\n",
        "  except Exception as e:\n",
        "    print(\"Failed to upload files to container. Error:\" + str(e))\n",
        "\n",
        "uploadToBlobStorage('/content/AirsoftGunSell.xlsx','AirsoftGunSell.xlsx')"
      ],
      "metadata": {
        "colab": {
          "base_uri": "https://localhost:8080/"
        },
        "id": "5JkYZV0shbtT",
        "outputId": "52cdddb2-fb7c-445c-da4e-ff092fd45b8d"
      },
      "execution_count": null,
      "outputs": [
        {
          "output_type": "stream",
          "name": "stdout",
          "text": [
            "Blob does not exist!\n",
            "Uploaded AirsoftGunSell.xlsx.successfully!\n"
          ]
        }
      ]
    },
    {
      "cell_type": "code",
      "source": [
        "import os\n",
        "from multiprocessing.pool import ThreadPool\n",
        "from azure.storage.blob import BlobServiceClient, BlobClient\n",
        "from azure.storage.blob import ContentSettings, ContainerClient\n",
        "import pandas as pd"
      ],
      "metadata": {
        "id": "6VoNuKPEiZzA"
      },
      "execution_count": null,
      "outputs": []
    },
    {
      "cell_type": "code",
      "source": [
        "MY_CONNECTION_STRING = \"DefaultEndpointsProtocol=https;AccountName=boonyaweebigdata1;AccountKey=a+xMAKZuhH59jmx6EIeYhnNADM2sO441qPG7GE29/VTR+svZdYh4KmK+RZfwtZY6woAcMjN5eJaB+ASt26ecRA==;EndpointSuffix=core.windows.net\"\n",
        "MY_BLOB_CONTAINER = \"blobinsertdata\"\n",
        "\n",
        "LOCAL_BLOB_PATH = \"/content/download_data\"\n",
        "\n",
        "class AzureBlobFileDownloader:\n",
        "  def __init__(self):\n",
        "    print(\"Intializing AzureBlobFileDownloader\")\n",
        "\n",
        "    self.blob_service_client =  BlobServiceClient.from_connection_string(MY_CONNECTION_STRING)\n",
        "    self.my_container = self.blob_service_client.get_container_client(MY_BLOB_CONTAINER)\n",
        "\n",
        "  def download_all_blobs_in_container(self):\n",
        "    my_blobs = self.my_container.list_blobs()\n",
        "    result = self.run(my_blobs)\n",
        "    print(result)\n",
        "\n",
        "  def run(self,blobs):\n",
        "    with ThreadPool(processes=int(10)) as pool:\n",
        "     return pool.map(self.save_blob_locally, blobs)\n",
        "\n",
        "  def save_blob_locally(self,blob):\n",
        "    file_name = blob.name\n",
        "    print(file_name)\n",
        "    bytes = self.my_container.get_blob_client(blob).download_blob().readall()\n",
        "\n",
        "    download_file_path = os.path.join(LOCAL_BLOB_PATH, file_name)\n",
        "    os.makedirs(os.path.dirname(download_file_path), exist_ok=True)\n",
        "\n",
        "    with open(download_file_path, \"wb\") as file:\n",
        "      file.write(bytes)\n",
        "    return file_name\n",
        "\n",
        "azure_blob_file_downloader = AzureBlobFileDownloader()\n",
        "azure_blob_file_downloader.download_all_blobs_in_container()\n",
        "\n",
        "dataframe1 = pd.read_excel('/content/download_data/AirsoftGunSell.xlsx')\n",
        "print(dataframe1)\n"
      ],
      "metadata": {
        "colab": {
          "base_uri": "https://localhost:8080/"
        },
        "id": "7TW8FXvxig2z",
        "outputId": "9ddd8ae3-07a8-4087-fbc0-3fd6992f9cac"
      },
      "execution_count": null,
      "outputs": [
        {
          "output_type": "stream",
          "name": "stdout",
          "text": [
            "Intializing AzureBlobFileDownloader\n",
            "AirsoftGunSell.xlsx\n",
            "stockblob.xlsx\n",
            "['AirsoftGunSell.xlsx', 'stockblob.xlsx']\n",
            "     Unnamed: 0                                               name      price\n",
            "0             0  SIG Sauer MPX-K Sportline Airsoft AEG Rifle (b...    $189.99\n",
            "1             1  Viva Arms Mosin Nagant M44 Carbine (Real Wood ...    $359.99\n",
            "2             2  RWA Nighthawk Custom War Hawk Green Gas Airsof...    $249.99\n",
            "3             3  Army Armament John Wick 4 Taran Tactical Pit V...    $104.99\n",
            "4             4  EMG Staccato Licensed XC 2011 GBB Airsoft Pist...    $139.99\n",
            "..          ...                                                ...        ...\n",
            "495         495  Tokyo Marui Type 89 J.G.S.D.F. GBBR Airsoft (Z...    $509.99\n",
            "496         496                   G&G ARP556 AEG - Battleship Grey    $329.99\n",
            "497         497                            LCT PKP Airsoft LMG AEG    $949.99\n",
            "498         498  Airsoft Surgeon Airsoft Revolver (Black Hawk S...  $3,206.00\n",
            "499         499  AW Custom HX22 Gold Standard IPSC Shooting GBB...    $162.99\n",
            "\n",
            "[500 rows x 3 columns]\n"
          ]
        }
      ]
    }
  ],
  "metadata": {
    "colab": {
      "provenance": [],
      "mount_file_id": "1yVg61g9eGG6ow_CW6yAEX_qFWEQgq0jX",
      "authorship_tag": "ABX9TyNms+2/PnVdzw/isrw85/n/",
      "include_colab_link": true
    },
    "kernelspec": {
      "display_name": "Python 3",
      "name": "python3"
    },
    "language_info": {
      "name": "python"
    }
  },
  "nbformat": 4,
  "nbformat_minor": 0
}